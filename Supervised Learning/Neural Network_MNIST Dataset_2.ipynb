{
 "cells": [
  {
   "cell_type": "code",
   "execution_count": 48,
   "id": "9e108915",
   "metadata": {},
   "outputs": [],
   "source": [
    "import tensorflow as tf\n",
    "import numpy as np\n",
    "import pandas as pd\n",
    "import matplotlib.pyplot as plt\n",
    "import keras\n",
    "from sklearn.model_selection import train_test_split\n",
    "from keras.wrappers.scikit_learn import KerasClassifier\n",
    "from sklearn.model_selection import GridSearchCV\n",
    "from sklearn.metrics import accuracy_score,confusion_matrix\n",
    "from keras import layers\n",
    "from keras import models\n",
    "from keras import utils\n",
    "from keras.layers import Dense\n",
    "from keras.models import Sequential\n",
    "from keras.layers import Flatten\n",
    "from keras.layers import Dropout\n",
    "from keras.layers import Activation\n",
    "from keras.regularizers import l2\n",
    "from tensorflow.keras.optimizers import RMSprop\n",
    "from tensorflow.keras.optimizers import SGD\n",
    "from tensorflow.keras.optimizers import Adam\n",
    "from keras import datasets\n",
    "from keras.utils import np_utils\n",
    "from keras.callbacks import History\n",
    "from keras import losses\n",
    "from sklearn.utils import shuffle"
   ]
  },
  {
   "cell_type": "code",
   "execution_count": 2,
   "id": "42751928",
   "metadata": {},
   "outputs": [
    {
     "data": {
      "text/html": [
       "<div>\n",
       "<style scoped>\n",
       "    .dataframe tbody tr th:only-of-type {\n",
       "        vertical-align: middle;\n",
       "    }\n",
       "\n",
       "    .dataframe tbody tr th {\n",
       "        vertical-align: top;\n",
       "    }\n",
       "\n",
       "    .dataframe thead th {\n",
       "        text-align: right;\n",
       "    }\n",
       "</style>\n",
       "<table border=\"1\" class=\"dataframe\">\n",
       "  <thead>\n",
       "    <tr style=\"text-align: right;\">\n",
       "      <th></th>\n",
       "      <th>label</th>\n",
       "      <th>pixel0</th>\n",
       "      <th>pixel1</th>\n",
       "      <th>pixel2</th>\n",
       "      <th>pixel3</th>\n",
       "      <th>pixel4</th>\n",
       "      <th>pixel5</th>\n",
       "      <th>pixel6</th>\n",
       "      <th>pixel7</th>\n",
       "      <th>pixel8</th>\n",
       "      <th>...</th>\n",
       "      <th>pixel774</th>\n",
       "      <th>pixel775</th>\n",
       "      <th>pixel776</th>\n",
       "      <th>pixel777</th>\n",
       "      <th>pixel778</th>\n",
       "      <th>pixel779</th>\n",
       "      <th>pixel780</th>\n",
       "      <th>pixel781</th>\n",
       "      <th>pixel782</th>\n",
       "      <th>pixel783</th>\n",
       "    </tr>\n",
       "  </thead>\n",
       "  <tbody>\n",
       "    <tr>\n",
       "      <th>0</th>\n",
       "      <td>1</td>\n",
       "      <td>0</td>\n",
       "      <td>0</td>\n",
       "      <td>0</td>\n",
       "      <td>0</td>\n",
       "      <td>0</td>\n",
       "      <td>0</td>\n",
       "      <td>0</td>\n",
       "      <td>0</td>\n",
       "      <td>0</td>\n",
       "      <td>...</td>\n",
       "      <td>0</td>\n",
       "      <td>0</td>\n",
       "      <td>0</td>\n",
       "      <td>0</td>\n",
       "      <td>0</td>\n",
       "      <td>0</td>\n",
       "      <td>0</td>\n",
       "      <td>0</td>\n",
       "      <td>0</td>\n",
       "      <td>0</td>\n",
       "    </tr>\n",
       "    <tr>\n",
       "      <th>1</th>\n",
       "      <td>0</td>\n",
       "      <td>0</td>\n",
       "      <td>0</td>\n",
       "      <td>0</td>\n",
       "      <td>0</td>\n",
       "      <td>0</td>\n",
       "      <td>0</td>\n",
       "      <td>0</td>\n",
       "      <td>0</td>\n",
       "      <td>0</td>\n",
       "      <td>...</td>\n",
       "      <td>0</td>\n",
       "      <td>0</td>\n",
       "      <td>0</td>\n",
       "      <td>0</td>\n",
       "      <td>0</td>\n",
       "      <td>0</td>\n",
       "      <td>0</td>\n",
       "      <td>0</td>\n",
       "      <td>0</td>\n",
       "      <td>0</td>\n",
       "    </tr>\n",
       "    <tr>\n",
       "      <th>2</th>\n",
       "      <td>1</td>\n",
       "      <td>0</td>\n",
       "      <td>0</td>\n",
       "      <td>0</td>\n",
       "      <td>0</td>\n",
       "      <td>0</td>\n",
       "      <td>0</td>\n",
       "      <td>0</td>\n",
       "      <td>0</td>\n",
       "      <td>0</td>\n",
       "      <td>...</td>\n",
       "      <td>0</td>\n",
       "      <td>0</td>\n",
       "      <td>0</td>\n",
       "      <td>0</td>\n",
       "      <td>0</td>\n",
       "      <td>0</td>\n",
       "      <td>0</td>\n",
       "      <td>0</td>\n",
       "      <td>0</td>\n",
       "      <td>0</td>\n",
       "    </tr>\n",
       "    <tr>\n",
       "      <th>3</th>\n",
       "      <td>4</td>\n",
       "      <td>0</td>\n",
       "      <td>0</td>\n",
       "      <td>0</td>\n",
       "      <td>0</td>\n",
       "      <td>0</td>\n",
       "      <td>0</td>\n",
       "      <td>0</td>\n",
       "      <td>0</td>\n",
       "      <td>0</td>\n",
       "      <td>...</td>\n",
       "      <td>0</td>\n",
       "      <td>0</td>\n",
       "      <td>0</td>\n",
       "      <td>0</td>\n",
       "      <td>0</td>\n",
       "      <td>0</td>\n",
       "      <td>0</td>\n",
       "      <td>0</td>\n",
       "      <td>0</td>\n",
       "      <td>0</td>\n",
       "    </tr>\n",
       "    <tr>\n",
       "      <th>4</th>\n",
       "      <td>0</td>\n",
       "      <td>0</td>\n",
       "      <td>0</td>\n",
       "      <td>0</td>\n",
       "      <td>0</td>\n",
       "      <td>0</td>\n",
       "      <td>0</td>\n",
       "      <td>0</td>\n",
       "      <td>0</td>\n",
       "      <td>0</td>\n",
       "      <td>...</td>\n",
       "      <td>0</td>\n",
       "      <td>0</td>\n",
       "      <td>0</td>\n",
       "      <td>0</td>\n",
       "      <td>0</td>\n",
       "      <td>0</td>\n",
       "      <td>0</td>\n",
       "      <td>0</td>\n",
       "      <td>0</td>\n",
       "      <td>0</td>\n",
       "    </tr>\n",
       "  </tbody>\n",
       "</table>\n",
       "<p>5 rows × 785 columns</p>\n",
       "</div>"
      ],
      "text/plain": [
       "   label  pixel0  pixel1  pixel2  pixel3  pixel4  pixel5  pixel6  pixel7  \\\n",
       "0      1       0       0       0       0       0       0       0       0   \n",
       "1      0       0       0       0       0       0       0       0       0   \n",
       "2      1       0       0       0       0       0       0       0       0   \n",
       "3      4       0       0       0       0       0       0       0       0   \n",
       "4      0       0       0       0       0       0       0       0       0   \n",
       "\n",
       "   pixel8  ...  pixel774  pixel775  pixel776  pixel777  pixel778  pixel779  \\\n",
       "0       0  ...         0         0         0         0         0         0   \n",
       "1       0  ...         0         0         0         0         0         0   \n",
       "2       0  ...         0         0         0         0         0         0   \n",
       "3       0  ...         0         0         0         0         0         0   \n",
       "4       0  ...         0         0         0         0         0         0   \n",
       "\n",
       "   pixel780  pixel781  pixel782  pixel783  \n",
       "0         0         0         0         0  \n",
       "1         0         0         0         0  \n",
       "2         0         0         0         0  \n",
       "3         0         0         0         0  \n",
       "4         0         0         0         0  \n",
       "\n",
       "[5 rows x 785 columns]"
      ]
     },
     "execution_count": 2,
     "metadata": {},
     "output_type": "execute_result"
    }
   ],
   "source": [
    "data = 'data/Digit_train.csv'\n",
    "df = pd.read_csv(data)\n",
    "df.head()"
   ]
  },
  {
   "cell_type": "code",
   "execution_count": 3,
   "id": "8b82924f",
   "metadata": {},
   "outputs": [
    {
     "name": "stdout",
     "output_type": "stream",
     "text": [
      "(42000, 784)\n",
      "(42000,)\n"
     ]
    }
   ],
   "source": [
    "X = df.drop(columns=['label'])\n",
    "y = df['label']\n",
    "print(X.shape)\n",
    "print(y.shape)"
   ]
  },
  {
   "cell_type": "code",
   "execution_count": 33,
   "id": "ba79745b",
   "metadata": {},
   "outputs": [
    {
     "name": "stdout",
     "output_type": "stream",
     "text": [
      "(29400, 784)\n",
      "(29400,)\n"
     ]
    }
   ],
   "source": [
    "x_train,x_test,y_train,y_test = train_test_split(X,y, test_size=0.3, stratify=y)\n",
    "print(x_train.shape)\n",
    "print(y_train.shape)"
   ]
  },
  {
   "cell_type": "code",
   "execution_count": 41,
   "id": "40c68c25",
   "metadata": {},
   "outputs": [],
   "source": [
    "num_classes = 10\n",
    "y_train = keras.utils.np_utils.to_categorical(y_train, num_classes)\n",
    "y_test = keras.utils.np_utils.to_categorical(y_test, num_classes)"
   ]
  },
  {
   "cell_type": "code",
   "execution_count": 42,
   "id": "928ea07f",
   "metadata": {},
   "outputs": [],
   "source": [
    "model = Sequential()\n",
    "model.add(Dense(12, input_dim=x_train.shape[1], activation='relu'))\n",
    "model.add(Dense(10, activation='softmax'))\n",
    "# Compile model\n",
    "model.compile(loss='categorical_crossentropy', optimizer='Adam', metrics=['accuracy'])"
   ]
  },
  {
   "cell_type": "code",
   "execution_count": 43,
   "id": "66d33b8a",
   "metadata": {},
   "outputs": [
    {
     "name": "stdout",
     "output_type": "stream",
     "text": [
      "919/919 [==============================] - 1s 833us/step\n",
      "394/394 [==============================] - 0s 805us/step\n",
      "Test accuracy: 0.10476190596818924\n",
      "Train accuracy: 0.10476190596818924\n"
     ]
    }
   ],
   "source": [
    "trained = model.predict(x_train)\n",
    "predicted = model.predict(x_test)\n",
    "\n",
    "# get the accuracy\n",
    "score_test = model.evaluate(x_test, y_test, verbose=0)\n",
    "score_train = model.evaluate(x_train, y_train, verbose=0)\n",
    "print('Test accuracy:', score_test[1])\n",
    "print('Train accuracy:', score_train[1])"
   ]
  },
  {
   "cell_type": "markdown",
   "id": "52178dac",
   "metadata": {},
   "source": [
    "### Tune Batch Size and Number of Epochs using GridSearchCV"
   ]
  },
  {
   "cell_type": "code",
   "execution_count": 7,
   "id": "8dc92d34",
   "metadata": {},
   "outputs": [],
   "source": [
    "def create_model():\n",
    "    \n",
    "    model = Sequential()\n",
    "    model.add(Dense(12, input_dim=x_train.shape[1], activation='relu'))\n",
    "    model.add(Dense(10, activation='softmax'))\n",
    "    model.compile(loss='categorical_crossentropy', optimizer='adam', metrics=['accuracy'])\n",
    "    return model"
   ]
  },
  {
   "cell_type": "code",
   "execution_count": 8,
   "id": "e4b727dc",
   "metadata": {},
   "outputs": [
    {
     "name": "stderr",
     "output_type": "stream",
     "text": [
      "C:\\Users\\707609\\AppData\\Local\\Temp/ipykernel_15568/346358926.py:1: DeprecationWarning: KerasClassifier is deprecated, use Sci-Keras (https://github.com/adriangb/scikeras) instead. See https://www.adriangb.com/scikeras/stable/migration.html for help migrating.\n",
      "  model = KerasClassifier(build_fn=create_model, verbose=0)\n"
     ]
    },
    {
     "name": "stdout",
     "output_type": "stream",
     "text": [
      "Best: 0.838367 using {'batch_size': 60, 'epochs': 50}\n",
      "0.394660 (0.064633) with: {'batch_size': 10, 'epochs': 10}\n",
      "0.545238 (0.099963) with: {'batch_size': 10, 'epochs': 20}\n",
      "0.670204 (0.055631) with: {'batch_size': 10, 'epochs': 30}\n",
      "0.552143 (0.121680) with: {'batch_size': 10, 'epochs': 40}\n",
      "0.431769 (0.143650) with: {'batch_size': 10, 'epochs': 50}\n",
      "0.506973 (0.078726) with: {'batch_size': 20, 'epochs': 10}\n",
      "0.566122 (0.144289) with: {'batch_size': 20, 'epochs': 20}\n",
      "0.485000 (0.193202) with: {'batch_size': 20, 'epochs': 30}\n",
      "0.722143 (0.130856) with: {'batch_size': 20, 'epochs': 40}\n",
      "0.756395 (0.079379) with: {'batch_size': 20, 'epochs': 50}\n",
      "0.443605 (0.097013) with: {'batch_size': 40, 'epochs': 10}\n",
      "0.592517 (0.049185) with: {'batch_size': 40, 'epochs': 20}\n",
      "0.765340 (0.066411) with: {'batch_size': 40, 'epochs': 30}\n",
      "0.717075 (0.100256) with: {'batch_size': 40, 'epochs': 40}\n",
      "0.835442 (0.042647) with: {'batch_size': 40, 'epochs': 50}\n",
      "0.532279 (0.040601) with: {'batch_size': 60, 'epochs': 10}\n",
      "0.593673 (0.114148) with: {'batch_size': 60, 'epochs': 20}\n",
      "0.778776 (0.046386) with: {'batch_size': 60, 'epochs': 30}\n",
      "0.828401 (0.037145) with: {'batch_size': 60, 'epochs': 40}\n",
      "0.838367 (0.045824) with: {'batch_size': 60, 'epochs': 50}\n",
      "0.513503 (0.030365) with: {'batch_size': 80, 'epochs': 10}\n",
      "0.603299 (0.099419) with: {'batch_size': 80, 'epochs': 20}\n",
      "0.724456 (0.136918) with: {'batch_size': 80, 'epochs': 30}\n",
      "0.749218 (0.097691) with: {'batch_size': 80, 'epochs': 40}\n",
      "0.827857 (0.045302) with: {'batch_size': 80, 'epochs': 50}\n",
      "0.350102 (0.009495) with: {'batch_size': 100, 'epochs': 10}\n",
      "0.535782 (0.132492) with: {'batch_size': 100, 'epochs': 20}\n",
      "0.587755 (0.038744) with: {'batch_size': 100, 'epochs': 30}\n",
      "0.624184 (0.081751) with: {'batch_size': 100, 'epochs': 40}\n",
      "0.818061 (0.024899) with: {'batch_size': 100, 'epochs': 50}\n"
     ]
    }
   ],
   "source": [
    "model = KerasClassifier(build_fn=create_model, verbose=0)\n",
    "\n",
    "batch_size = [10, 20, 40, 60, 80, 100]\n",
    "epochs = [10, 20, 30, 40, 50]\n",
    "param_grid = dict(batch_size=batch_size, epochs=epochs)\n",
    "grid = GridSearchCV(estimator=model, param_grid=param_grid, n_jobs=-1, cv=3)\n",
    "grid_result = grid.fit(x_train, y_train)\n",
    "# summarize results\n",
    "print(\"Best: %f using %s\" % (grid_result.best_score_, grid_result.best_params_))\n",
    "means = grid_result.cv_results_['mean_test_score']\n",
    "stds = grid_result.cv_results_['std_test_score']\n",
    "params = grid_result.cv_results_['params']\n",
    "for mean, stdev, param in zip(means, stds, params):\n",
    "    print(\"%f (%f) with: %r\" % (mean, stdev, param))"
   ]
  },
  {
   "cell_type": "markdown",
   "id": "3eccb10a",
   "metadata": {},
   "source": [
    "### Tune the Training Optimization Algorithm\n",
    "\n",
    "https://machinelearningmastery.com/grid-search-hyperparameters-deep-learning-models-python-keras/"
   ]
  },
  {
   "cell_type": "code",
   "execution_count": 10,
   "id": "31106d3f",
   "metadata": {},
   "outputs": [],
   "source": [
    "def create_model(optimizer='adam'):\n",
    "    \n",
    "    model = Sequential()\n",
    "    model.add(Dense(12, input_dim=x_train.shape[1], activation='relu'))\n",
    "    model.add(Dense(10, activation='softmax'))\n",
    "    model.compile(loss='categorical_crossentropy', optimizer=optimizer, metrics=['accuracy'])\n",
    "    return model"
   ]
  },
  {
   "cell_type": "code",
   "execution_count": 11,
   "id": "e4e7240c",
   "metadata": {},
   "outputs": [
    {
     "name": "stderr",
     "output_type": "stream",
     "text": [
      "C:\\Users\\707609\\AppData\\Local\\Temp/ipykernel_15568/1909923188.py:1: DeprecationWarning: KerasClassifier is deprecated, use Sci-Keras (https://github.com/adriangb/scikeras) instead. See https://www.adriangb.com/scikeras/stable/migration.html for help migrating.\n",
      "  model = KerasClassifier(build_fn=create_model, epochs=50, batch_size=60, verbose=0)\n"
     ]
    },
    {
     "name": "stdout",
     "output_type": "stream",
     "text": [
      "Best: 0.784864 using {'optimizer': 'Adam'}\n",
      "0.111565 (0.002097) with: {'optimizer': 'SGD'}\n",
      "0.695544 (0.132050) with: {'optimizer': 'RMSprop'}\n",
      "0.784864 (0.010683) with: {'optimizer': 'Adam'}\n"
     ]
    }
   ],
   "source": [
    "model = KerasClassifier(build_fn=create_model, epochs=50, batch_size=60, verbose=0)\n",
    "\n",
    "optimizer = ['SGD', 'RMSprop', 'Adam']\n",
    "param_grid = dict(optimizer=optimizer)\n",
    "grid = GridSearchCV(estimator=model, param_grid=param_grid, n_jobs=-1, cv=3)\n",
    "grid_result = grid.fit(x_train, y_train)\n",
    "\n",
    "print(\"Best: %f using %s\" % (grid_result.best_score_, grid_result.best_params_))\n",
    "means = grid_result.cv_results_['mean_test_score']\n",
    "stds = grid_result.cv_results_['std_test_score']\n",
    "params = grid_result.cv_results_['params']\n",
    "for mean, stdev, param in zip(means, stds, params):\n",
    "    print(\"%f (%f) with: %r\" % (mean, stdev, param))"
   ]
  },
  {
   "cell_type": "markdown",
   "id": "4a000f60",
   "metadata": {},
   "source": [
    "### Tuning the Learning Rate"
   ]
  },
  {
   "cell_type": "code",
   "execution_count": 13,
   "id": "880720e8",
   "metadata": {},
   "outputs": [],
   "source": [
    "from tensorflow.keras.optimizers import Adam\n",
    "def create_model(learn_rate=0.01):\n",
    "\n",
    "    model = Sequential()\n",
    "    model.add(Dense(12, input_dim=x_train.shape[1], activation='relu'))\n",
    "    model.add(Dense(10, activation='softmax'))\n",
    "    optimizer = Adam(lr=learn_rate)\n",
    "    model.compile(loss='categorical_crossentropy', optimizer=optimizer, metrics=['accuracy'])\n",
    "    return model"
   ]
  },
  {
   "cell_type": "code",
   "execution_count": 14,
   "id": "97b7b311",
   "metadata": {},
   "outputs": [
    {
     "name": "stderr",
     "output_type": "stream",
     "text": [
      "C:\\Users\\707609\\AppData\\Local\\Temp/ipykernel_15568/3764648828.py:1: DeprecationWarning: KerasClassifier is deprecated, use Sci-Keras (https://github.com/adriangb/scikeras) instead. See https://www.adriangb.com/scikeras/stable/migration.html for help migrating.\n",
      "  model = KerasClassifier(build_fn=create_model, epochs=50, batch_size=60, verbose=0)\n",
      "C:\\Users\\707609\\Anaconda3\\lib\\site-packages\\keras\\optimizer_v2\\adam.py:105: UserWarning: The `lr` argument is deprecated, use `learning_rate` instead.\n",
      "  super(Adam, self).__init__(name, **kwargs)\n"
     ]
    },
    {
     "name": "stdout",
     "output_type": "stream",
     "text": [
      "Best: 0.836429 using {'learn_rate': 0.001}\n",
      "0.836429 (0.025614) with: {'learn_rate': 0.001}\n",
      "0.123605 (0.019045) with: {'learn_rate': 0.01}\n",
      "0.105748 (0.006069) with: {'learn_rate': 0.1}\n",
      "0.099286 (0.001041) with: {'learn_rate': 0.2}\n",
      "0.101837 (0.005161) with: {'learn_rate': 0.3}\n"
     ]
    }
   ],
   "source": [
    "model = KerasClassifier(build_fn=create_model, epochs=50, batch_size=60, verbose=0)\n",
    "learn_rate = [0.001, 0.01, 0.1, 0.2, 0.3]\n",
    "param_grid = dict(learn_rate=learn_rate)\n",
    "grid = GridSearchCV(estimator=model, param_grid=param_grid, n_jobs=-1, cv=3)\n",
    "grid_result = grid.fit(x_train, y_train)\n",
    "\n",
    "print(\"Best: %f using %s\" % (grid_result.best_score_, grid_result.best_params_))\n",
    "means = grid_result.cv_results_['mean_test_score']\n",
    "stds = grid_result.cv_results_['std_test_score']\n",
    "params = grid_result.cv_results_['params']\n",
    "for mean, stdev, param in zip(means, stds, params):\n",
    "    print(\"%f (%f) with: %r\" % (mean, stdev, param))"
   ]
  },
  {
   "cell_type": "markdown",
   "id": "a6fc7470",
   "metadata": {},
   "source": [
    "### Tuning the Activation Function"
   ]
  },
  {
   "cell_type": "code",
   "execution_count": 17,
   "id": "142596d9",
   "metadata": {},
   "outputs": [],
   "source": [
    "def create_model(activation='relu'):\n",
    "\n",
    "    model = Sequential()\n",
    "    model.add(Dense(12, input_dim=x_train.shape[1], kernel_initializer='uniform', activation=activation))\n",
    "    model.add(Dense(10, kernel_initializer='uniform', activation='softmax'))\n",
    "    model.compile(loss='categorical_crossentropy', optimizer='adam', metrics=['accuracy'])\n",
    "    return model"
   ]
  },
  {
   "cell_type": "code",
   "execution_count": 18,
   "id": "d51ba6e8",
   "metadata": {},
   "outputs": [
    {
     "name": "stderr",
     "output_type": "stream",
     "text": [
      "C:\\Users\\707609\\AppData\\Local\\Temp/ipykernel_15568/2737549030.py:1: DeprecationWarning: KerasClassifier is deprecated, use Sci-Keras (https://github.com/adriangb/scikeras) instead. See https://www.adriangb.com/scikeras/stable/migration.html for help migrating.\n",
      "  model = KerasClassifier(build_fn=create_model, epochs=50, batch_size=60, verbose=0)\n"
     ]
    },
    {
     "name": "stdout",
     "output_type": "stream",
     "text": [
      "Best: 0.904626 using {'activation': 'relu'}\n",
      "0.452177 (0.104102) with: {'activation': 'softmax'}\n",
      "0.904626 (0.003421) with: {'activation': 'relu'}\n",
      "0.880476 (0.001937) with: {'activation': 'sigmoid'}\n"
     ]
    }
   ],
   "source": [
    "model = KerasClassifier(build_fn=create_model, epochs=50, batch_size=60, verbose=0)\n",
    "\n",
    "activation = ['softmax', 'relu', 'sigmoid']\n",
    "param_grid = dict(activation=activation)\n",
    "grid = GridSearchCV(estimator=model, param_grid=param_grid, n_jobs=-1, cv=3)\n",
    "grid_result = grid.fit(x_train, y_train)\n",
    "\n",
    "print(\"Best: %f using %s\" % (grid_result.best_score_, grid_result.best_params_))\n",
    "means = grid_result.cv_results_['mean_test_score']\n",
    "stds = grid_result.cv_results_['std_test_score']\n",
    "params = grid_result.cv_results_['params']\n",
    "for mean, stdev, param in zip(means, stds, params):\n",
    "    print(\"%f (%f) with: %r\" % (mean, stdev, param))"
   ]
  },
  {
   "cell_type": "markdown",
   "id": "8139f785",
   "metadata": {},
   "source": [
    "### Tuning the Dropout Regularization"
   ]
  },
  {
   "cell_type": "code",
   "execution_count": 21,
   "id": "dec65015",
   "metadata": {},
   "outputs": [],
   "source": [
    "from keras.constraints import maxnorm\n",
    "\n",
    "def create_model(dropout_rate=0.0, weight_constraint=0):\n",
    "\n",
    "    model = Sequential()\n",
    "    model.add(Dense(12, input_dim=x_train.shape[1], kernel_initializer='uniform', activation='relu', kernel_constraint=maxnorm(weight_constraint)))\n",
    "    model.add(Dropout(dropout_rate))\n",
    "    model.add(Dense(10, kernel_initializer='uniform', activation='softmax'))\n",
    "    model.compile(loss='categorical_crossentropy', optimizer='adam', metrics=['accuracy'])\n",
    "    return model"
   ]
  },
  {
   "cell_type": "code",
   "execution_count": 22,
   "id": "a4fa7dc5",
   "metadata": {},
   "outputs": [
    {
     "name": "stderr",
     "output_type": "stream",
     "text": [
      "C:\\Users\\707609\\AppData\\Local\\Temp/ipykernel_15568/3541111714.py:1: DeprecationWarning: KerasClassifier is deprecated, use Sci-Keras (https://github.com/adriangb/scikeras) instead. See https://www.adriangb.com/scikeras/stable/migration.html for help migrating.\n",
      "  model = KerasClassifier(build_fn=create_model, epochs=50, batch_size=60, verbose=0)\n"
     ]
    },
    {
     "name": "stdout",
     "output_type": "stream",
     "text": [
      "Best: 0.918776 using {'dropout_rate': 0.0, 'weight_constraint': 1}\n",
      "0.918776 (0.003955) with: {'dropout_rate': 0.0, 'weight_constraint': 1}\n",
      "0.909864 (0.009143) with: {'dropout_rate': 0.0, 'weight_constraint': 2}\n",
      "0.902687 (0.000962) with: {'dropout_rate': 0.0, 'weight_constraint': 3}\n",
      "0.906939 (0.011444) with: {'dropout_rate': 0.0, 'weight_constraint': 4}\n",
      "0.901633 (0.006032) with: {'dropout_rate': 0.0, 'weight_constraint': 5}\n",
      "0.904150 (0.012110) with: {'dropout_rate': 0.1, 'weight_constraint': 1}\n",
      "0.902415 (0.007961) with: {'dropout_rate': 0.1, 'weight_constraint': 2}\n",
      "0.901020 (0.006347) with: {'dropout_rate': 0.1, 'weight_constraint': 3}\n",
      "0.901190 (0.001551) with: {'dropout_rate': 0.1, 'weight_constraint': 4}\n",
      "0.905340 (0.007902) with: {'dropout_rate': 0.1, 'weight_constraint': 5}\n",
      "0.874048 (0.005127) with: {'dropout_rate': 0.2, 'weight_constraint': 1}\n",
      "0.890816 (0.007546) with: {'dropout_rate': 0.2, 'weight_constraint': 2}\n",
      "0.890068 (0.003316) with: {'dropout_rate': 0.2, 'weight_constraint': 3}\n",
      "0.891088 (0.006132) with: {'dropout_rate': 0.2, 'weight_constraint': 4}\n",
      "0.884626 (0.008743) with: {'dropout_rate': 0.2, 'weight_constraint': 5}\n",
      "0.885476 (0.016844) with: {'dropout_rate': 0.3, 'weight_constraint': 1}\n",
      "0.883980 (0.006967) with: {'dropout_rate': 0.3, 'weight_constraint': 2}\n",
      "0.882449 (0.014652) with: {'dropout_rate': 0.3, 'weight_constraint': 3}\n",
      "0.873401 (0.019782) with: {'dropout_rate': 0.3, 'weight_constraint': 4}\n",
      "0.871463 (0.005710) with: {'dropout_rate': 0.3, 'weight_constraint': 5}\n",
      "0.866429 (0.005165) with: {'dropout_rate': 0.4, 'weight_constraint': 1}\n",
      "0.848095 (0.025278) with: {'dropout_rate': 0.4, 'weight_constraint': 2}\n",
      "0.863095 (0.007565) with: {'dropout_rate': 0.4, 'weight_constraint': 3}\n",
      "0.855102 (0.014022) with: {'dropout_rate': 0.4, 'weight_constraint': 4}\n",
      "0.802143 (0.076102) with: {'dropout_rate': 0.4, 'weight_constraint': 5}\n",
      "0.856190 (0.018435) with: {'dropout_rate': 0.5, 'weight_constraint': 1}\n",
      "0.830850 (0.046984) with: {'dropout_rate': 0.5, 'weight_constraint': 2}\n",
      "0.863367 (0.003833) with: {'dropout_rate': 0.5, 'weight_constraint': 3}\n",
      "0.760136 (0.086672) with: {'dropout_rate': 0.5, 'weight_constraint': 4}\n",
      "0.808605 (0.044172) with: {'dropout_rate': 0.5, 'weight_constraint': 5}\n",
      "0.622109 (0.062074) with: {'dropout_rate': 0.6, 'weight_constraint': 1}\n",
      "0.771871 (0.072613) with: {'dropout_rate': 0.6, 'weight_constraint': 2}\n",
      "0.671599 (0.133389) with: {'dropout_rate': 0.6, 'weight_constraint': 3}\n",
      "0.671463 (0.140326) with: {'dropout_rate': 0.6, 'weight_constraint': 4}\n",
      "0.698231 (0.009393) with: {'dropout_rate': 0.6, 'weight_constraint': 5}\n",
      "0.562109 (0.081583) with: {'dropout_rate': 0.7, 'weight_constraint': 1}\n",
      "0.559660 (0.073489) with: {'dropout_rate': 0.7, 'weight_constraint': 2}\n",
      "0.526088 (0.106348) with: {'dropout_rate': 0.7, 'weight_constraint': 3}\n",
      "0.402177 (0.096516) with: {'dropout_rate': 0.7, 'weight_constraint': 4}\n",
      "0.507313 (0.106567) with: {'dropout_rate': 0.7, 'weight_constraint': 5}\n",
      "0.248163 (0.096299) with: {'dropout_rate': 0.8, 'weight_constraint': 1}\n",
      "0.411429 (0.050436) with: {'dropout_rate': 0.8, 'weight_constraint': 2}\n",
      "0.425374 (0.037518) with: {'dropout_rate': 0.8, 'weight_constraint': 3}\n",
      "0.437177 (0.010082) with: {'dropout_rate': 0.8, 'weight_constraint': 4}\n",
      "0.498231 (0.109647) with: {'dropout_rate': 0.8, 'weight_constraint': 5}\n",
      "0.232109 (0.032408) with: {'dropout_rate': 0.9, 'weight_constraint': 1}\n",
      "0.300204 (0.028089) with: {'dropout_rate': 0.9, 'weight_constraint': 2}\n",
      "0.231395 (0.042179) with: {'dropout_rate': 0.9, 'weight_constraint': 3}\n",
      "0.221803 (0.076278) with: {'dropout_rate': 0.9, 'weight_constraint': 4}\n",
      "0.185578 (0.052965) with: {'dropout_rate': 0.9, 'weight_constraint': 5}\n"
     ]
    }
   ],
   "source": [
    "model = KerasClassifier(build_fn=create_model, epochs=50, batch_size=60, verbose=0)\n",
    "\n",
    "weight_constraint = [1, 2, 3, 4, 5]\n",
    "dropout_rate = [0.0, 0.1, 0.2, 0.3, 0.4, 0.5, 0.6, 0.7, 0.8, 0.9]\n",
    "param_grid = dict(dropout_rate=dropout_rate, weight_constraint=weight_constraint)\n",
    "grid = GridSearchCV(estimator=model, param_grid=param_grid, n_jobs=-1, cv=3)\n",
    "grid_result = grid.fit(x_train, y_train)\n",
    "# summarize results\n",
    "print(\"Best: %f using %s\" % (grid_result.best_score_, grid_result.best_params_))\n",
    "means = grid_result.cv_results_['mean_test_score']\n",
    "stds = grid_result.cv_results_['std_test_score']\n",
    "params = grid_result.cv_results_['params']\n",
    "for mean, stdev, param in zip(means, stds, params):\n",
    "    print(\"%f (%f) with: %r\" % (mean, stdev, param))"
   ]
  },
  {
   "cell_type": "markdown",
   "id": "097ab93f",
   "metadata": {},
   "source": [
    "### Tuning the number of neurons in the hidden layer"
   ]
  },
  {
   "cell_type": "code",
   "execution_count": 23,
   "id": "63317862",
   "metadata": {},
   "outputs": [],
   "source": [
    "def create_model(neurons=1):\n",
    "\n",
    "    model = Sequential()\n",
    "    model.add(Dense(neurons, input_dim=x_train.shape[1], kernel_initializer='uniform', activation='relu', kernel_constraint=maxnorm(1)))\n",
    "    model.add(Dense(10, kernel_initializer='uniform', activation='softmax'))\n",
    "    model.compile(loss='categorical_crossentropy', optimizer='adam', metrics=['accuracy'])\n",
    "    return model"
   ]
  },
  {
   "cell_type": "code",
   "execution_count": 24,
   "id": "7f6c1058",
   "metadata": {},
   "outputs": [
    {
     "name": "stderr",
     "output_type": "stream",
     "text": [
      "C:\\Users\\707609\\AppData\\Local\\Temp/ipykernel_15568/3550739399.py:1: DeprecationWarning: KerasClassifier is deprecated, use Sci-Keras (https://github.com/adriangb/scikeras) instead. See https://www.adriangb.com/scikeras/stable/migration.html for help migrating.\n",
      "  model = KerasClassifier(build_fn=create_model, epochs=50, batch_size=60, verbose=0)\n"
     ]
    },
    {
     "name": "stdout",
     "output_type": "stream",
     "text": [
      "Best: 0.953401 using {'neurons': 128}\n",
      "0.316905 (0.028872) with: {'neurons': 1}\n",
      "0.876395 (0.013132) with: {'neurons': 8}\n",
      "0.922891 (0.005246) with: {'neurons': 16}\n",
      "0.941531 (0.002433) with: {'neurons': 32}\n",
      "0.947449 (0.003573) with: {'neurons': 64}\n",
      "0.953401 (0.004817) with: {'neurons': 128}\n"
     ]
    }
   ],
   "source": [
    "model = KerasClassifier(build_fn=create_model, epochs=50, batch_size=60, verbose=0)\n",
    "\n",
    "neurons = [1, 8, 16, 32, 64, 128]\n",
    "param_grid = dict(neurons=neurons)\n",
    "grid = GridSearchCV(estimator=model, param_grid=param_grid, n_jobs=-1, cv=3)\n",
    "grid_result = grid.fit(x_train, y_train)\n",
    "\n",
    "print(\"Best: %f using %s\" % (grid_result.best_score_, grid_result.best_params_))\n",
    "means = grid_result.cv_results_['mean_test_score']\n",
    "stds = grid_result.cv_results_['std_test_score']\n",
    "params = grid_result.cv_results_['params']\n",
    "for mean, stdev, param in zip(means, stds, params):\n",
    "    print(\"%f (%f) with: %r\" % (mean, stdev, param))"
   ]
  },
  {
   "cell_type": "code",
   "execution_count": 44,
   "id": "29f5b63b",
   "metadata": {},
   "outputs": [],
   "source": [
    "model = Sequential()\n",
    "model.add(Dense(128, input_dim=x_train.shape[1], activation='relu', kernel_initializer='uniform', kernel_constraint=maxnorm(1)))\n",
    "model.add(Dense(num_classes, activation='softmax'))\n",
    "# Compile model\n",
    "optimizer = Adam(learning_rate=0.001)\n",
    "model.compile(loss='categorical_crossentropy', optimizer='adam', metrics=['accuracy'])"
   ]
  },
  {
   "cell_type": "code",
   "execution_count": 45,
   "id": "85860aaf",
   "metadata": {},
   "outputs": [
    {
     "name": "stdout",
     "output_type": "stream",
     "text": [
      "Epoch 1/50\n",
      "392/392 [==============================] - 1s 2ms/step - loss: 3.3732 - accuracy: 0.8081 - val_loss: 0.7428 - val_accuracy: 0.8485\n",
      "Epoch 2/50\n",
      "392/392 [==============================] - 1s 2ms/step - loss: 0.4756 - accuracy: 0.8894 - val_loss: 0.4574 - val_accuracy: 0.8929\n",
      "Epoch 3/50\n",
      "392/392 [==============================] - 1s 2ms/step - loss: 0.3157 - accuracy: 0.9210 - val_loss: 0.4829 - val_accuracy: 0.9031\n",
      "Epoch 4/50\n",
      "392/392 [==============================] - 1s 2ms/step - loss: 0.2713 - accuracy: 0.9313 - val_loss: 0.4688 - val_accuracy: 0.9151\n",
      "Epoch 5/50\n",
      "392/392 [==============================] - 1s 2ms/step - loss: 0.2415 - accuracy: 0.9396 - val_loss: 0.3849 - val_accuracy: 0.9243\n",
      "Epoch 6/50\n",
      "392/392 [==============================] - 1s 2ms/step - loss: 0.2103 - accuracy: 0.9462 - val_loss: 0.4011 - val_accuracy: 0.9236\n",
      "Epoch 7/50\n",
      "392/392 [==============================] - 1s 2ms/step - loss: 0.2046 - accuracy: 0.9494 - val_loss: 0.3707 - val_accuracy: 0.9303\n",
      "Epoch 8/50\n",
      "392/392 [==============================] - 1s 2ms/step - loss: 0.1937 - accuracy: 0.9522 - val_loss: 0.3958 - val_accuracy: 0.9265\n",
      "Epoch 9/50\n",
      "392/392 [==============================] - 1s 2ms/step - loss: 0.1690 - accuracy: 0.9570 - val_loss: 0.3731 - val_accuracy: 0.9332\n",
      "Epoch 10/50\n",
      "392/392 [==============================] - 1s 2ms/step - loss: 0.1456 - accuracy: 0.9615 - val_loss: 0.3671 - val_accuracy: 0.9386\n",
      "Epoch 11/50\n",
      "392/392 [==============================] - 1s 2ms/step - loss: 0.1620 - accuracy: 0.9584 - val_loss: 0.4157 - val_accuracy: 0.9213\n",
      "Epoch 12/50\n",
      "392/392 [==============================] - 1s 2ms/step - loss: 0.1601 - accuracy: 0.9568 - val_loss: 0.3248 - val_accuracy: 0.9379\n",
      "Epoch 13/50\n",
      "392/392 [==============================] - 1s 2ms/step - loss: 0.1386 - accuracy: 0.9626 - val_loss: 0.2901 - val_accuracy: 0.9386\n",
      "Epoch 14/50\n",
      "392/392 [==============================] - 1s 2ms/step - loss: 0.1460 - accuracy: 0.9611 - val_loss: 0.2862 - val_accuracy: 0.9451\n",
      "Epoch 15/50\n",
      "392/392 [==============================] - 1s 2ms/step - loss: 0.1340 - accuracy: 0.9634 - val_loss: 0.2815 - val_accuracy: 0.9422\n",
      "Epoch 16/50\n",
      "392/392 [==============================] - 1s 2ms/step - loss: 0.1239 - accuracy: 0.9657 - val_loss: 0.2492 - val_accuracy: 0.9497\n",
      "Epoch 17/50\n",
      "392/392 [==============================] - 1s 2ms/step - loss: 0.1431 - accuracy: 0.9618 - val_loss: 0.3228 - val_accuracy: 0.9383\n",
      "Epoch 18/50\n",
      "392/392 [==============================] - 1s 2ms/step - loss: 0.1431 - accuracy: 0.9618 - val_loss: 0.3066 - val_accuracy: 0.9432\n",
      "Epoch 19/50\n",
      "392/392 [==============================] - 1s 2ms/step - loss: 0.1406 - accuracy: 0.9634 - val_loss: 0.3057 - val_accuracy: 0.9395\n",
      "Epoch 20/50\n",
      "392/392 [==============================] - 1s 2ms/step - loss: 0.1269 - accuracy: 0.9648 - val_loss: 0.2489 - val_accuracy: 0.9449\n",
      "Epoch 21/50\n",
      "392/392 [==============================] - 1s 2ms/step - loss: 0.1260 - accuracy: 0.9648 - val_loss: 0.2655 - val_accuracy: 0.9439\n",
      "Epoch 22/50\n",
      "392/392 [==============================] - 1s 2ms/step - loss: 0.1304 - accuracy: 0.9642 - val_loss: 0.3137 - val_accuracy: 0.9345\n",
      "Epoch 23/50\n",
      "392/392 [==============================] - 1s 2ms/step - loss: 0.1191 - accuracy: 0.9659 - val_loss: 0.2241 - val_accuracy: 0.9519\n",
      "Epoch 24/50\n",
      "392/392 [==============================] - 1s 2ms/step - loss: 0.1293 - accuracy: 0.9661 - val_loss: 0.2327 - val_accuracy: 0.9466\n",
      "Epoch 25/50\n",
      "392/392 [==============================] - 1s 2ms/step - loss: 0.1219 - accuracy: 0.9664 - val_loss: 0.2184 - val_accuracy: 0.9537\n",
      "Epoch 26/50\n",
      "392/392 [==============================] - 1s 2ms/step - loss: 0.1048 - accuracy: 0.9705 - val_loss: 0.2779 - val_accuracy: 0.9396\n",
      "Epoch 27/50\n",
      "392/392 [==============================] - 1s 2ms/step - loss: 0.1024 - accuracy: 0.9714 - val_loss: 0.2747 - val_accuracy: 0.9459\n",
      "Epoch 28/50\n",
      "392/392 [==============================] - 1s 2ms/step - loss: 0.1107 - accuracy: 0.9688 - val_loss: 0.2432 - val_accuracy: 0.9452\n",
      "Epoch 29/50\n",
      "392/392 [==============================] - 1s 3ms/step - loss: 0.1261 - accuracy: 0.9659 - val_loss: 0.2268 - val_accuracy: 0.9509\n",
      "Epoch 30/50\n",
      "392/392 [==============================] - 1s 3ms/step - loss: 0.1121 - accuracy: 0.9685 - val_loss: 0.2355 - val_accuracy: 0.9502\n",
      "Epoch 31/50\n",
      "392/392 [==============================] - 1s 2ms/step - loss: 0.1135 - accuracy: 0.9682 - val_loss: 0.2192 - val_accuracy: 0.9490\n",
      "Epoch 32/50\n",
      "392/392 [==============================] - 1s 2ms/step - loss: 0.1167 - accuracy: 0.9698 - val_loss: 0.2573 - val_accuracy: 0.9427\n",
      "Epoch 33/50\n",
      "392/392 [==============================] - 1s 2ms/step - loss: 0.1010 - accuracy: 0.9719 - val_loss: 0.2132 - val_accuracy: 0.9520\n",
      "Epoch 34/50\n",
      "392/392 [==============================] - 1s 2ms/step - loss: 0.1082 - accuracy: 0.9688 - val_loss: 0.2187 - val_accuracy: 0.9500\n",
      "Epoch 35/50\n",
      "392/392 [==============================] - 1s 2ms/step - loss: 0.1021 - accuracy: 0.9711 - val_loss: 0.2542 - val_accuracy: 0.9526\n",
      "Epoch 36/50\n",
      "392/392 [==============================] - 1s 2ms/step - loss: 0.1156 - accuracy: 0.9685 - val_loss: 0.2216 - val_accuracy: 0.9544\n",
      "Epoch 37/50\n",
      "392/392 [==============================] - 1s 2ms/step - loss: 0.0968 - accuracy: 0.9722 - val_loss: 0.2240 - val_accuracy: 0.9512\n",
      "Epoch 38/50\n",
      "392/392 [==============================] - 1s 2ms/step - loss: 0.1068 - accuracy: 0.9698 - val_loss: 0.1988 - val_accuracy: 0.9510\n",
      "Epoch 39/50\n",
      "392/392 [==============================] - 1s 2ms/step - loss: 0.1123 - accuracy: 0.9680 - val_loss: 0.2030 - val_accuracy: 0.9502\n",
      "Epoch 40/50\n",
      "392/392 [==============================] - 1s 2ms/step - loss: 0.1241 - accuracy: 0.9657 - val_loss: 0.2060 - val_accuracy: 0.9536\n",
      "Epoch 41/50\n",
      "392/392 [==============================] - 1s 2ms/step - loss: 0.1005 - accuracy: 0.9712 - val_loss: 0.2510 - val_accuracy: 0.9447\n",
      "Epoch 42/50\n",
      "392/392 [==============================] - 1s 2ms/step - loss: 0.1143 - accuracy: 0.9685 - val_loss: 0.2574 - val_accuracy: 0.9491\n",
      "Epoch 43/50\n",
      "392/392 [==============================] - 1s 2ms/step - loss: 0.0959 - accuracy: 0.9726 - val_loss: 0.2543 - val_accuracy: 0.9473\n",
      "Epoch 44/50\n",
      "392/392 [==============================] - 1s 2ms/step - loss: 0.1172 - accuracy: 0.9673 - val_loss: 0.2244 - val_accuracy: 0.9495\n",
      "Epoch 45/50\n",
      "392/392 [==============================] - 1s 2ms/step - loss: 0.1027 - accuracy: 0.9705 - val_loss: 0.2018 - val_accuracy: 0.9551\n",
      "Epoch 46/50\n",
      "392/392 [==============================] - 1s 2ms/step - loss: 0.1054 - accuracy: 0.9712 - val_loss: 0.2274 - val_accuracy: 0.9505\n",
      "Epoch 47/50\n",
      "392/392 [==============================] - 1s 3ms/step - loss: 0.1045 - accuracy: 0.9708 - val_loss: 0.2119 - val_accuracy: 0.9536\n",
      "Epoch 48/50\n",
      "392/392 [==============================] - 1s 3ms/step - loss: 0.0923 - accuracy: 0.9742 - val_loss: 0.2485 - val_accuracy: 0.9502\n",
      "Epoch 49/50\n",
      "392/392 [==============================] - 1s 3ms/step - loss: 0.1047 - accuracy: 0.9713 - val_loss: 0.2388 - val_accuracy: 0.9500\n",
      "Epoch 50/50\n",
      "392/392 [==============================] - 1s 2ms/step - loss: 0.1039 - accuracy: 0.9714 - val_loss: 0.2810 - val_accuracy: 0.9493\n"
     ]
    }
   ],
   "source": [
    "model_tuned = model.fit(x_train, y_train,\n",
    "                    batch_size=60,\n",
    "                    epochs=50,\n",
    "                    verbose=1,\n",
    "                    validation_split=0.2)"
   ]
  },
  {
   "cell_type": "code",
   "execution_count": 46,
   "id": "4ca67e3b",
   "metadata": {},
   "outputs": [
    {
     "name": "stdout",
     "output_type": "stream",
     "text": [
      "Test accuracy: 0.9437301754951477\n",
      "Test loss: 0.3046859800815582\n"
     ]
    }
   ],
   "source": [
    "score = model.evaluate(x_test, y_test, verbose=0)\n",
    "print('Test accuracy:', score[1])\n",
    "print('Test loss:', score[0])"
   ]
  },
  {
   "cell_type": "code",
   "execution_count": 47,
   "id": "427a835c",
   "metadata": {},
   "outputs": [
    {
     "data": {
      "image/png": "[encoded data removed]",
      "text/plain": [
       "<Figure size 720x432 with 1 Axes>"
      ]
     },
     "metadata": {
      "needs_background": "light"
     },
     "output_type": "display_data"
    },
    {
     "data": {
      "image/png": "[encoded data removed]",
      "text/plain": [
       "<Figure size 720x432 with 1 Axes>"
      ]
     },
     "metadata": {
      "needs_background": "light"
     },
     "output_type": "display_data"
    }
   ],
   "source": [
    "fig, ax = plt.subplots(1, 1, figsize=(10,6))\n",
    "ax.plot(np.sqrt(model_tuned.history['accuracy']), 'r', label='train_accuracy')\n",
    "ax.plot(np.sqrt(model_tuned.history['val_accuracy']), 'b' ,label='val_accuracy')\n",
    "ax.set_xlabel(r'Epoch', fontsize=20)\n",
    "ax.set_ylabel(r'Accuracy', fontsize=20)\n",
    "ax.legend()\n",
    "plt.grid()\n",
    "ax.tick_params(labelsize=20)\n",
    "\n",
    "fig, ax = plt.subplots(1, 1, figsize=(10,6))\n",
    "ax.plot(np.sqrt(model_tuned.history['loss']), 'r', label='train_loss')\n",
    "ax.plot(np.sqrt(model_tuned.history['val_loss']), 'b' ,label='val_loss')\n",
    "ax.set_xlabel(r'Epoch', fontsize=20)\n",
    "ax.set_ylabel(r'Loss', fontsize=20)\n",
    "ax.legend()\n",
    "plt.grid()\n",
    "ax.tick_params(labelsize=20)"
   ]
  },
  {
   "cell_type": "code",
   "execution_count": null,
   "id": "00733665",
   "metadata": {},
   "outputs": [],
   "source": []
  }
 ],
 "metadata": {
  "kernelspec": {
   "display_name": "Python 3 (ipykernel)",
   "language": "python",
   "name": "python3"
  },
  "language_info": {
   "codemirror_mode": {
    "name": "ipython",
    "version": 3
   },
   "file_extension": ".py",
   "mimetype": "text/x-python",
   "name": "python",
   "nbconvert_exporter": "python",
   "pygments_lexer": "ipython3",
   "version": "3.9.7"
  }
 },
 "nbformat": 4,
 "nbformat_minor": 5
}
